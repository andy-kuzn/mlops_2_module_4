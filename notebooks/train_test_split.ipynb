{
 "cells": [
  {
   "cell_type": "code",
   "execution_count": 11,
   "metadata": {},
   "outputs": [],
   "source": [
    "import pandas as pd\n",
    "from sklearn.model_selection import train_test_split"
   ]
  },
  {
   "cell_type": "code",
   "execution_count": 12,
   "metadata": {},
   "outputs": [],
   "source": [
    "X = pd.read_csv('/home/andrey/projects/abalone/datasets/X_processed.csv')"
   ]
  },
  {
   "cell_type": "code",
   "execution_count": 13,
   "metadata": {},
   "outputs": [],
   "source": [
    "y = pd.read_csv('/home/andrey/projects/abalone/datasets/y_abalone.csv')"
   ]
  },
  {
   "cell_type": "code",
   "execution_count": 14,
   "metadata": {},
   "outputs": [],
   "source": [
    "X_train, X_test, y_train, y_test = train_test_split(X, y, test_size=0.2, random_state=42)"
   ]
  },
  {
   "cell_type": "code",
   "execution_count": 15,
   "metadata": {},
   "outputs": [],
   "source": [
    "X_train.to_csv('/home/andrey/projects/abalone/datasets/X_train.csv',\n",
    "               index=None\n",
    "               )\n",
    "y_train.to_csv('/home/andrey/projects/abalone/datasets/y_train.csv',\n",
    "               index=None,\n",
    "               header=None\n",
    "               )\n",
    "X_test.to_csv('/home/andrey/projects/abalone/datasets/X_test.csv',\n",
    "              index=None\n",
    "              )\n",
    "y_test.to_csv('/home/andrey/projects/abalone/datasets/y_test.csv',\n",
    "              index=None,\n",
    "              header=None\n",
    "              )"
   ]
  }
 ],
 "metadata": {
  "kernelspec": {
   "display_name": "venv",
   "language": "python",
   "name": "python3"
  },
  "language_info": {
   "codemirror_mode": {
    "name": "ipython",
    "version": 3
   },
   "file_extension": ".py",
   "mimetype": "text/x-python",
   "name": "python",
   "nbconvert_exporter": "python",
   "pygments_lexer": "ipython3",
   "version": "3.10.12"
  }
 },
 "nbformat": 4,
 "nbformat_minor": 2
}
